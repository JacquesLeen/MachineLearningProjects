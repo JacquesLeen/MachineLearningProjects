{
 "metadata": {
  "language_info": {
   "codemirror_mode": {
    "name": "ipython",
    "version": 3
   },
   "file_extension": ".py",
   "mimetype": "text/x-python",
   "name": "python",
   "nbconvert_exporter": "python",
   "pygments_lexer": "ipython3",
   "version": 3
  },
  "orig_nbformat": 2
 },
 "nbformat": 4,
 "nbformat_minor": 2,
 "cells": [
  {
   "source": [
    "# 8 - Deep Learning and Neural Networks\n",
    "\n",
    "Replicate computation done by our brain with a Neural Network. Separate the two questions $\\rightarrow$ how does a NN WORK? and how does a NN LEARN?"
   ],
   "cell_type": "markdown",
   "metadata": {}
  },
  {
   "source": [
    "## 8.1 - The Neuron\n",
    "\n",
    "It is the basic block of the NN. They are creat in analogy with actual Neurons in our brain, we recreate those into a machine. But how?\n",
    "\n",
    "A neuron has got a body, dendrites and an axon.  Alone the neuron cant do much but a mln of them becomes very powerful. The dendrites are the receivers of the signal, and the axon passes the signals over to the next neuron through a synapse (which is actually a void space).\n",
    "\n",
    "In ML the neuron gets a signal from inputs (mre than one) and has sends an output signals. The input corresponds to the senses of a person that sends electrical impulses to the brain. The brain is \"just\" a black box in that sense. Inouts are independent variable for A SINGLE OBSERVATION and they have to be standardized or normalized.\n",
    "\n",
    "The output value can be continous, discrete or a categorical variable (represented through a dummy variable). A single observation in input, despite having a set of input values (for different indep. variables) becomes a single output observation. \n",
    "\n",
    "The connection between input and body is a synapse and it is associated to a weight $\\rightarrow$ the weights $w$ are what gets updated from the NN and they are the updating process is learning method through which the NN works.\n",
    "\n",
    "What does the body do?\n",
    "\n",
    "1- $  \\sum w_i x_i$ $\\rightarrow$ weighted sums of the inputs $x_i$\n",
    "\n",
    "2- $\\varphi ( \\sum w_i x_i ) $ $\\rightarrow$ applies an activation function and according to the value decides whether to pass or not the signal.\n",
    "\n",
    "3- The neuron eventually passes on the signal\n",
    "\n"
   ],
   "cell_type": "markdown",
   "metadata": {}
  },
  {
   "source": [
    "## 8.2 - The Activation Function $\\varphi$\n",
    "\n",
    "We have ben mentioning the activation function $\\varphi$. What is that? it decised whether the singal gets passed through. 4 main type of activation function\n",
    "\n",
    "1 - Threshold function $\\varphi$: if the value is less then $x_t$ then $\\varphi(x) = 0$ else $\\varphi(x)=1$\n",
    "\n",
    "2 - Sigmoid $\\varphi$: $$\\varphi(x) = \\frac{1}{1 + \\exp(-x)} $$\n",
    "where $x$ is a shortcut for $\\sum w_i x_i$\n",
    "\n",
    "3 - Rectifier $\\varphi$: $$ \\varphi(x) = \\text{max}(x,0) $$\n",
    "\n",
    "4 - Hyperpolic Tangent function $\\varphi$: $$\\varphi(x) = \\frac{\\sinh(x)}{\\cosh(x)} = \\frac{1- \\exp(-2x)}{1+ \\exp(-2x)} $$"
   ],
   "cell_type": "markdown",
   "metadata": {}
  },
  {
   "cell_type": "code",
   "execution_count": null,
   "metadata": {},
   "outputs": [],
   "source": []
  },
  {
   "cell_type": "code",
   "execution_count": null,
   "metadata": {},
   "outputs": [],
   "source": []
  }
 ]
}