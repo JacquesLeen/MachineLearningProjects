{
 "cells": [
  {
   "cell_type": "markdown",
   "metadata": {},
   "source": [
    "# 1 - DATA PREPROCESSING"
   ]
  },
  {
   "cell_type": "markdown",
   "metadata": {},
   "source": [
    "### Import Libraries"
   ]
  },
  {
   "cell_type": "code",
   "execution_count": 1,
   "metadata": {},
   "outputs": [],
   "source": [
    "#importing libraries\n",
    "import numpy as np\n",
    "import matplotlib.pyplot as plt\n",
    "import pandas as pd\n",
    "import seaborn; seaborn.set()\n",
    "\n"
   ]
  },
  {
   "cell_type": "markdown",
   "metadata": {},
   "source": [
    "### Import Dataset"
   ]
  },
  {
   "cell_type": "code",
   "execution_count": 2,
   "metadata": {},
   "outputs": [],
   "source": [
    "#Import a dataset\n",
    "dataset = pd.read_csv('Part 1 - Data Preprocessing/Data.csv') #name of the dataset\n",
    "X = dataset.iloc[:, :-1].values \n",
    "y = dataset.iloc[:, 3].values #modify extrems if necessary"
   ]
  },
  {
   "cell_type": "code",
   "execution_count": 5,
   "metadata": {},
   "outputs": [
    {
     "name": "stdout",
     "output_type": "stream",
     "text": [
      "[['France' 44.0 72000.0]\n",
      " ['Spain' 27.0 48000.0]\n",
      " ['Germany' 30.0 54000.0]\n",
      " ['Spain' 38.0 61000.0]\n",
      " ['Germany' 40.0 nan]\n",
      " ['France' 35.0 58000.0]\n",
      " ['Spain' nan 52000.0]\n",
      " ['France' 48.0 79000.0]\n",
      " ['Germany' 50.0 83000.0]\n",
      " ['France' 37.0 67000.0]]\n"
     ]
    }
   ],
   "source": [
    "print(X)"
   ]
  },
  {
   "cell_type": "code",
   "execution_count": 6,
   "metadata": {},
   "outputs": [
    {
     "name": "stdout",
     "output_type": "stream",
     "text": [
      "['No' 'Yes' 'No' 'No' 'Yes' 'Yes' 'No' 'Yes' 'No' 'Yes']\n"
     ]
    }
   ],
   "source": [
    "print(y)"
   ]
  },
  {
   "cell_type": "markdown",
   "metadata": {},
   "source": [
    "### Taking Care of Missing Data"
   ]
  },
  {
   "cell_type": "code",
   "execution_count": 7,
   "metadata": {},
   "outputs": [],
   "source": [
    "#rimpiazziamo i valori mancanti con la media di quello che abbiamo nel data set\n",
    "\n",
    "from sklearn.impute import SimpleImputer\n",
    "imputer = SimpleImputer(missing_values=np.nan, strategy='mean')\n",
    "imputer.fit(X[:, 1:3])\n",
    "X[:, 1:3] = imputer.transform(X[:, 1:3])"
   ]
  },
  {
   "cell_type": "markdown",
   "metadata": {},
   "source": [
    "### Encoding Categorical Data"
   ]
  },
  {
   "cell_type": "code",
   "execution_count": 8,
   "metadata": {},
   "outputs": [
    {
     "name": "stdout",
     "output_type": "stream",
     "text": [
      "[[1.0 0.0 0.0 44.0 72000.0]\n",
      " [0.0 0.0 1.0 27.0 48000.0]\n",
      " [0.0 1.0 0.0 30.0 54000.0]\n",
      " [0.0 0.0 1.0 38.0 61000.0]\n",
      " [0.0 1.0 0.0 40.0 63777.77777777778]\n",
      " [1.0 0.0 0.0 35.0 58000.0]\n",
      " [0.0 0.0 1.0 38.77777777777778 52000.0]\n",
      " [1.0 0.0 0.0 48.0 79000.0]\n",
      " [0.0 1.0 0.0 50.0 83000.0]\n",
      " [1.0 0.0 0.0 37.0 67000.0]]\n"
     ]
    }
   ],
   "source": [
    "# trasformiamo gli elementi char in elementi numerici nel nostro dataset\n",
    "# lo faccio come vettori per evitare problemi di eventuale ordinamento che vengono considerati rilevanti \n",
    "\n",
    "from sklearn.compose import ColumnTransformer\n",
    "from sklearn.preprocessing import OneHotEncoder\n",
    "\n",
    "ct = ColumnTransformer(transformers=[('encoder', OneHotEncoder(), [0])], remainder = 'passthrough') #column transformer\n",
    "X = np.array(ct.fit_transform(X))\n",
    "\n",
    "print(X) #le nazionalità sono riportate come una sorta di variabili booleane ora è come se avessi la colonna Ger quella Fra etc.."
   ]
  },
  {
   "cell_type": "markdown",
   "metadata": {},
   "source": [
    "### Encoding Dependent Variable"
   ]
  },
  {
   "cell_type": "code",
   "execution_count": 9,
   "metadata": {},
   "outputs": [
    {
     "name": "stdout",
     "output_type": "stream",
     "text": [
      "[0 1 0 0 1 1 0 1 0 1]\n"
     ]
    }
   ],
   "source": [
    "from sklearn.preprocessing import LabelEncoder\n",
    "#procedura analoga a quella sopra con un Booleano creato in luogo di due \n",
    "le = LabelEncoder()\n",
    "y = le.fit_transform(y)\n",
    "print(y)"
   ]
  },
  {
   "cell_type": "markdown",
   "metadata": {},
   "source": [
    "### Split into Train and Test set"
   ]
  },
  {
   "cell_type": "code",
   "execution_count": 10,
   "metadata": {},
   "outputs": [
    {
     "name": "stdout",
     "output_type": "stream",
     "text": [
      "[[0.0 0.0 1.0 38.77777777777778 52000.0]\n",
      " [0.0 1.0 0.0 40.0 63777.77777777778]\n",
      " [1.0 0.0 0.0 44.0 72000.0]\n",
      " [0.0 0.0 1.0 38.0 61000.0]\n",
      " [0.0 0.0 1.0 27.0 48000.0]\n",
      " [1.0 0.0 0.0 48.0 79000.0]\n",
      " [0.0 1.0 0.0 50.0 83000.0]\n",
      " [1.0 0.0 0.0 35.0 58000.0]]\n",
      "[0 1 0 0 1 1 0 1]\n",
      "[[0.0 1.0 0.0 30.0 54000.0]\n",
      " [1.0 0.0 0.0 37.0 67000.0]]\n",
      "[0 1]\n"
     ]
    }
   ],
   "source": [
    "#splitting into training and test datasets\n",
    "from sklearn.model_selection import train_test_split\n",
    "X_train, X_test, y_train, y_test = train_test_split(X, y, test_size = 0.2, random_state =1)\n",
    "#possibly different test_size\n",
    "\n",
    "print(X_train)\n",
    "print(y_train)\n",
    "print(X_test)\n",
    "print(y_test)"
   ]
  },
  {
   "cell_type": "markdown",
   "metadata": {},
   "source": [
    "### Feature Scaling\n",
    "Avoid feature to be dominating for some ML models. Methods most frequent are standardisation\n",
    "$$   \\frac{x - \\langle x \\rangle}{\\sigma}$$\n",
    "\n",
    "and normalisation\n",
    "$$\\frac{x - \\min}{\\max -\\min} $$\n",
    "\n",
    "normalisation $\\rightarrow$ data follow a normal distribution\n",
    "\n",
    "standardisation $\\rightarrow$ works in most cases"
   ]
  },
  {
   "cell_type": "code",
   "execution_count": 11,
   "metadata": {},
   "outputs": [
    {
     "name": "stdout",
     "output_type": "stream",
     "text": [
      "[[0.0 0.0 1.0 -0.19159184384578545 -1.0781259408412425]\n",
      " [0.0 1.0 0.0 -0.014117293757057777 -0.07013167641635372]\n",
      " [1.0 0.0 0.0 0.566708506533324 0.633562432710455]\n",
      " [0.0 0.0 1.0 -0.30453019390224867 -0.30786617274297867]\n",
      " [0.0 0.0 1.0 -1.9018011447007988 -1.420463615551582]\n",
      " [1.0 0.0 0.0 1.1475343068237058 1.232653363453549]\n",
      " [0.0 1.0 0.0 1.4379472069688968 1.5749910381638885]\n",
      " [1.0 0.0 0.0 -0.7401495441200351 -0.5646194287757332]]\n",
      "[0 1 0 0 1 1 0 1]\n",
      "[[0.0 1.0 0.0 -1.4661817944830124 -0.9069571034860727]\n",
      " [1.0 0.0 0.0 -0.44973664397484414 0.2056403393225306]]\n",
      "[0 1]\n"
     ]
    }
   ],
   "source": [
    "#feature scaling\n",
    "from sklearn.preprocessing import StandardScaler\n",
    "sc = StandardScaler()\n",
    "X_train[:, 3:] = sc.fit_transform(X_train[:, 3:]) #non si applica alle dummy variable\n",
    "X_test[:, 3:] = sc.transform(X_test[:, 3:])\n",
    "\n",
    "print(X_train)\n",
    "print(y_train)\n",
    "print(X_test)\n",
    "print(y_test)"
   ]
  },
  {
   "cell_type": "markdown",
   "metadata": {},
   "source": [
    "# 2- Regression Methods\n",
    "## 2-1 Linear Regression"
   ]
  },
  {
   "cell_type": "code",
   "execution_count": 12,
   "metadata": {},
   "outputs": [],
   "source": [
    "dataset = pd.read_csv('Part 2 - Regression/Section 4 - Simple Linear Regression/Salary_Data.csv') #name of the dataset\n",
    "X = dataset.iloc[:, :-1].values \n",
    "y = dataset.iloc[:, -1].values #modify extrems if necessary\n",
    "\n",
    "\n",
    "from sklearn.model_selection import train_test_split\n",
    "X_train, X_test, y_train, y_test = train_test_split(X, y, test_size = 0.2, random_state =42)\n",
    "#possibly different test_size\n"
   ]
  },
  {
   "cell_type": "code",
   "execution_count": 13,
   "metadata": {},
   "outputs": [],
   "source": [
    "from sklearn.linear_model import LinearRegression\n",
    "LR = LinearRegression().fit(X_train,y_train)\n",
    "result = LR.predict(X_test)"
   ]
  },
  {
   "cell_type": "code",
   "execution_count": 14,
   "metadata": {},
   "outputs": [
    {
     "data": {
      "image/png": "[encoded data removed]",
      "text/plain": [
       "<Figure size 432x288 with 1 Axes>"
      ]
     },
     "metadata": {
      "needs_background": "light"
     },
     "output_type": "display_data"
    }
   ],
   "source": [
    "\n",
    "x = np.linspace(0,12,2000)\n",
    "plt.scatter(X_train, y_train, c='b')\n",
    "plt.scatter(X_test, y_test, c='grey')\n",
    "plt.scatter(X_test, result, c='red')\n",
    "plt.plot(x, LR.coef_ * x + LR.intercept_, c='black')\n",
    "plt.legend(['Fit','Traininig','Test','Prediction'])\n",
    "plt.xlabel('Years')\n",
    "plt.ylabel('Salary')\n",
    "plt.title('Linear Regression Test')\n",
    "plt.tight_layout()\n",
    "plt.savefig('Part 2 - Regression/Section 4 - Simple Linear Regression/SLR.jpg', dpi=199)"
   ]
  },
  {
   "cell_type": "markdown",
   "metadata": {},
   "source": [
    "### 2-2 Multiple Linear Regression\n",
    "\n",
    "Supoe we want to study whether multiple variables influence a determined numerical output. Lets call the input $x_i$ for $i \\in (1 \\dots n)$ and the output $y$. We want to study the relation\n",
    "$$\n",
    "    y = a_0 + \\sum_i a_i x_i\n",
    "$$\n",
    "\n",
    "This can be done in a MLR framework. In this case we have a file with many independent variables, referred to different features of companies and we want to understand how that relates to the profit.\n",
    "\n",
    "Assumption for MLR\n",
    "\n",
    "1- Linearity\n",
    "\n",
    "2- Homoscedastiscity\n",
    "\n",
    "3- Multivariate Normality\n",
    "\n",
    "4- Indep. of errors\n",
    "\n",
    "5- Lack of multicollinearity\n",
    "\n",
    "NEVER add a variable for each dummy variable! $\\rightarrow$ DV trap\n",
    "\n",
    "#### P-Value\n",
    "Statistical Significance $\\rightarrow$ test of the null hp\n",
    "\n",
    "$p < 0.05 \\; \\rightarrow $ reject the null hp\n",
    "\n",
    "#### Backward elimination\n",
    "\n",
    "It is a useful criterion for multivariate models since allows one to eventually eliminate non relevant features. By eliminating those one gets the best relevant features for the model. Note $\\rightarrow$ we keep the variables with the smallest p-value since a small p relates a big chance to observe correlation.\n"
   ]
  },
  {
   "cell_type": "code",
   "execution_count": 15,
   "metadata": {},
   "outputs": [],
   "source": [
    "dataset = pd.read_csv('Part 2 - Regression/Section 5 - Multiple Linear Regression/50_Startups.csv') #name of the dataset\n",
    "X = dataset.iloc[:, :-1].values \n",
    "y = dataset.iloc[:, -1].values #modify extrems if necessary\n",
    "\n",
    "ct = ColumnTransformer(transformers=[('encoder', OneHotEncoder(), [-1])], remainder = 'passthrough') #column transformer\n",
    "X = np.array(ct.fit_transform(X))\n",
    "\n",
    "from sklearn.model_selection import train_test_split\n",
    "X_train, X_test, y_train, y_test = train_test_split(X, y, test_size = 0.2, random_state =0)\n",
    "#possibly different test_size\n"
   ]
  },
  {
   "cell_type": "code",
   "execution_count": 16,
   "metadata": {},
   "outputs": [
    {
     "name": "stdout",
     "output_type": "stream",
     "text": [
      "[[103282.38       103015.20159796]\n",
      " [144259.4        132582.27760816]\n",
      " [146121.95       132447.73845174]\n",
      " [ 77798.83        71976.09851258]\n",
      " [191050.39       178537.48221055]\n",
      " [105008.31       116161.24230166]\n",
      " [ 81229.06        67851.69209676]\n",
      " [ 97483.56        98791.73374686]\n",
      " [110352.25       113969.43533013]\n",
      " [166187.94       167921.06569551]]\n"
     ]
    }
   ],
   "source": [
    "from sklearn.linear_model import LinearRegression #avoids by itself the dummy variable trap and takes care of bw elimination\n",
    "\n",
    "MLR = LinearRegression().fit(X_train, y_train)\n",
    "results = MLR.predict(X_test)\n",
    "\n",
    "confrontation = np.concatenate((y_test.reshape(len(y_test),1), results.reshape(len(results),1)), axis=1)\n",
    "print(confrontation)"
   ]
  },
  {
   "cell_type": "code",
   "execution_count": 17,
   "metadata": {},
   "outputs": [
    {
     "data": {
      "image/png": "[encoded data removed]",
      "text/plain": [
       "<Figure size 432x288 with 1 Axes>"
      ]
     },
     "metadata": {
      "needs_background": "light"
     },
     "output_type": "display_data"
    }
   ],
   "source": [
    "x = np.linspace(0,150000,2000)\n",
    "plt.scatter(X_train[:,3], y_train, c='b')\n",
    "plt.scatter(X_test[:,3], y_test, c='grey')\n",
    "plt.scatter(X_test[:,3], results, c='red')\n",
    "plt.legend(['Traininig','Test','Prediction'])\n",
    "plt.xlabel('R&D spend')\n",
    "plt.ylabel('Profit')\n",
    "plt.title('Multilinear Regression Test')\n",
    "plt.tight_layout()\n",
    "plt.savefig('Part 2 - Regression/Section 5 - Multiple Linear Regression/MLR.jpg', dpi=199)"
   ]
  },
  {
   "cell_type": "markdown",
   "metadata": {},
   "source": [
    "## 2-3 Polynomial Regression\n",
    "\n",
    "It is similar to MLR but there is only one independent variable\n",
    "\n",
    "$$ y= a_0 + \\sum_{n=1}^{k} a_n x_n^n $$\n",
    "\n",
    "to a degree $k$ as high as we need to $\\rightarrow$ pay attention to the degree, the regressor might be more precise with the data you already have but at the same time less flexible in handling new data"
   ]
  },
  {
   "cell_type": "code",
   "execution_count": 56,
   "metadata": {},
   "outputs": [],
   "source": [
    "dataset = pd.read_csv('Part 2 - Regression/Section 6 - Polynomial Regression/Position_Salaries.csv') #name of the dataset\n",
    "X = dataset.iloc[:, 1:-1].values #elimino label\n",
    "y = dataset.iloc[:, -1].values #modify extrems if necessary"
   ]
  },
  {
   "cell_type": "code",
   "execution_count": 57,
   "metadata": {},
   "outputs": [],
   "source": [
    "from sklearn.preprocessing import PolynomialFeatures\n",
    "from sklearn.linear_model import LinearRegression\n",
    "SLR = LinearRegression().fit(X,y) #polynomial degree 1\n",
    "Poly = PolynomialFeatures(degree=4)\n",
    "PLR =Poly.fit_transform(X) #polynomial degree 4\n",
    "PLR = LinearRegression().fit(PLR,y)\n"
   ]
  },
  {
   "cell_type": "code",
   "execution_count": 58,
   "metadata": {},
   "outputs": [
    {
     "data": {
      "image/png": "[encoded data removed]",
      "text/plain": [
       "<Figure size 432x288 with 1 Axes>"
      ]
     },
     "metadata": {
      "needs_background": "light"
     },
     "output_type": "display_data"
    }
   ],
   "source": [
    "x = np.arange(1,10,0.1)\n",
    "x = x.reshape((len(x),1))\n",
    "plt.scatter(X, y, c='b')\n",
    "plt.plot(X, SLR.predict(X), c ='black')\n",
    "plt.plot(x, PLR.predict(Poly.fit_transform(x)), c='r')\n",
    "plt.legend(['SLR','4th Power','DATA'])\n",
    "plt.xlabel('Experience')\n",
    "plt.ylabel('Salary')\n",
    "plt.title('Polynomial Linear Regression')\n",
    "plt.tight_layout()\n",
    "plt.savefig('Part 2 - Regression/Section 6 - Polynomial Regression/PLR.jpg', dpi=199)"
   ]
  },
  {
   "cell_type": "code",
   "execution_count": 21,
   "metadata": {},
   "outputs": [
    {
     "name": "stdout",
     "output_type": "stream",
     "text": [
      "Linear prediction: [330378.78787879]\n",
      "Poly Prediction: [158862.45265153]\n"
     ]
    }
   ],
   "source": [
    "print('Linear prediction:', SLR.predict([[6.5]]))\n",
    "print('Poly Prediction:', PLR.predict(Poly.fit_transform([[6.5]])))"
   ]
  },
  {
   "cell_type": "markdown",
   "metadata": {},
   "source": [
    "## 2-4 SVR\n",
    "Support Vettor Regression $\\rightarrow$ The idea is that instead of a line (Linear regression) we build a tube around the data points. The tube is the $\\epsilon$-insensitive tube. In this tube there is no difference between the points in terms of the error. The points outside the tube are relevant and we measure the difference between those points and the tube. We find the curve such that for error $\\epsilon$:\n",
    "$$\n",
    "\\frac{1}{2} ||w||^2 +c \\sum_{i=1}^m (\\epsilon_i + \\epsilon_i ^*) \\rightarrow \\min\n",
    "$$\n",
    "which minimises the distance between the points outside the tube and the tube.\n",
    "\n",
    "It is called a SVR because the points outside the tube are individuated by vectors and are the support vectors of the regression.\n",
    "\n",
    "SVR can be non linear as well. "
   ]
  },
  {
   "cell_type": "code",
   "execution_count": 91,
   "metadata": {},
   "outputs": [],
   "source": [
    "dataset = pd.read_csv('Part 2 - Regression/Section 7 - Support Vector Regression (SVR)/Position_Salaries.csv') #name of the dataset\n",
    "X = dataset.iloc[:, 1:-1].values #elimino label\n",
    "y = dataset.iloc[:, -1].values #modify extrems if necessary\n",
    "\n",
    "#apply feature scaling (equation does not have coefficient balancing)\n",
    "sc_1 = StandardScaler()\n",
    "sc_2 = StandardScaler()\n",
    "\n",
    "X = sc_1.fit_transform(X) #non si applica alle dummy variable\n",
    "y = sc_2.fit_transform(y.reshape(len(y),1))"
   ]
  },
  {
   "cell_type": "code",
   "execution_count": 92,
   "metadata": {},
   "outputs": [
    {
     "name": "stdout",
     "output_type": "stream",
     "text": [
      "[170370.0204065]\n"
     ]
    }
   ],
   "source": [
    "from sklearn.svm import SVR\n",
    "Reg = SVR(kernel='rbf', degree=3)\n",
    "Reg.fit(X,y.ravel())\n",
    "\n",
    "print( sc_2.inverse_transform ( Reg.predict ( sc_1.transform( [[6.5]] ) ) ) )\n"
   ]
  },
  {
   "cell_type": "code",
   "execution_count": 54,
   "metadata": {},
   "outputs": [
    {
     "data": {
      "image/png": "[encoded data removed]",
      "text/plain": [
       "<Figure size 432x288 with 1 Axes>"
      ]
     },
     "metadata": {
      "needs_background": "light"
     },
     "output_type": "display_data"
    }
   ],
   "source": [
    "x = np.arange(min(sc_1.inverse_transform(X)),max(sc_1.inverse_transform(X)),0.1)\n",
    "x = x.reshape((len(x),1))\n",
    "\n",
    "plt.scatter(sc_1.inverse_transform(X), sc_2.inverse_transform(y), c='b')\n",
    "plt.plot(x, sc_2.inverse_transform(Reg.predict( sc_1.transform(x) ) ), c='r')\n",
    "plt.legend(['SVR','DATA'])\n",
    "plt.xlabel('Experience')\n",
    "plt.ylabel('Salary')\n",
    "plt.title('SVR')\n",
    "plt.tight_layout()\n",
    "plt.savefig('Part 2 - Regression/Section 7 - Support Vector Regression (SVR)/SVR.jpg', dpi=199)"
   ]
  },
  {
   "cell_type": "markdown",
   "metadata": {},
   "source": [
    "## 2-5 Decision Trees for Regression\n",
    "\n",
    "Given a scatter plot with $x_1, x_2$ as independent variable we want to determine an independent variable $y$. A regression tree algorithms splits the scatter in section according to the values of the $x_1$ or $x_2$ variable, according to the information entropy. The split tend to increase the amunt of information we obtain from the dataset. \n",
    "\n",
    "According to the values of the split we create a decision tree.\n",
    "\n",
    "Example: \n",
    "\n",
    "1) is $x_1 > 40$ yes/no?\n",
    "\n",
    "2) if $x_1 > 40$ is $x_2 < 30$ yes/no?\n",
    "\n",
    "...\n",
    "\n",
    "we create then a partition of the original dataset (leaves of a tree). For each of those partition we assign at $y$ the average of the $y$ of the elements in that subset. Every new element falling into that leaf (the subset) will get this exact value."
   ]
  },
  {
   "cell_type": "code",
   "execution_count": 59,
   "metadata": {},
   "outputs": [],
   "source": [
    "dataset = pd.read_csv('Part 2 - Regression/Section 8 - Decision Tree Regression/Position_Salaries.csv') #name of the dataset\n",
    "X = dataset.iloc[:, 1:-1].values #elimino label\n",
    "y = dataset.iloc[:, -1].values #modify extrems if necessary\n"
   ]
  },
  {
   "cell_type": "code",
   "execution_count": 72,
   "metadata": {},
   "outputs": [
    {
     "data": {
      "text/plain": [
       "array([150000.])"
      ]
     },
     "execution_count": 72,
     "metadata": {},
     "output_type": "execute_result"
    }
   ],
   "source": [
    "from sklearn.tree import DecisionTreeRegressor\n",
    "Dec_tree = DecisionTreeRegressor(random_state=0).fit(X,y) #fit su training set\n",
    "Dec_tree.predict([[6.5]]) #prediction of new value"
   ]
  },
  {
   "cell_type": "code",
   "execution_count": 74,
   "metadata": {},
   "outputs": [
    {
     "data": {
      "image/png": "[encoded data removed]",
      "text/plain": [
       "<Figure size 432x288 with 1 Axes>"
      ]
     },
     "metadata": {
      "needs_background": "light"
     },
     "output_type": "display_data"
    }
   ],
   "source": [
    "x = np.arange(1,10,0.1)\n",
    "x = x.reshape((len(x),1))\n",
    "\n",
    "plt.scatter(X, y, c='b')\n",
    "plt.plot(x, Dec_tree.predict(x), c ='r')\n",
    "plt.legend(['Dec_Tree','DATA'])\n",
    "plt.xlabel('Experience')\n",
    "plt.ylabel('Salary')\n",
    "plt.title('Dec Tree Regression')\n",
    "plt.tight_layout()\n",
    "plt.savefig('Part 2 - Regression/Section 8 - Decision Tree Regression/DEC_TREE_REG.jpg', dpi=199)"
   ]
  },
  {
   "cell_type": "markdown",
   "metadata": {},
   "source": [
    "## 2-6 Random Forest Regression\n",
    "\n",
    "Case of Ensemble Learning $\\rightarrow$ take multiple algorithms and join them together to have a more poowerful effect. \n",
    "\n",
    "Take a set of $K$ random data points from my data set\n",
    "\n",
    "Build a decision tree based on those data points\n",
    "\n",
    "Repeat for many cases\n",
    "\n",
    "Final prediction is given by the average of all values"
   ]
  },
  {
   "cell_type": "code",
   "execution_count": 75,
   "metadata": {},
   "outputs": [],
   "source": [
    "dataset = pd.read_csv('Part 2 - Regression/Section 9 - Random Forest Regression/Position_Salaries.csv') #name of the dataset\n",
    "X = dataset.iloc[:, 1:-1].values #elimino label\n",
    "y = dataset.iloc[:, -1].values #modify extrems if necessary"
   ]
  },
  {
   "cell_type": "code",
   "execution_count": 82,
   "metadata": {},
   "outputs": [
    {
     "data": {
      "text/plain": [
       "array([167000.])"
      ]
     },
     "execution_count": 82,
     "metadata": {},
     "output_type": "execute_result"
    }
   ],
   "source": [
    "from sklearn.ensemble import RandomForestRegressor\n",
    "\n",
    "regressor = RandomForestRegressor(n_estimators=10, random_state=0).fit(X,y)\n",
    "regressor.predict([[6.5]])"
   ]
  },
  {
   "cell_type": "code",
   "execution_count": 83,
   "metadata": {},
   "outputs": [
    {
     "data": {
      "image/png": "[encoded data removed]",
      "text/plain": [
       "<Figure size 432x288 with 1 Axes>"
      ]
     },
     "metadata": {
      "needs_background": "light"
     },
     "output_type": "display_data"
    }
   ],
   "source": [
    "x = np.arange(1,10,0.1)\n",
    "x = x.reshape((len(x),1))\n",
    "\n",
    "plt.scatter(X, y, c='b')\n",
    "plt.plot(x, regressor.predict(x), c ='r')\n",
    "plt.legend(['RandomForest','DATA'])\n",
    "plt.xlabel('Experience')\n",
    "plt.ylabel('Salary')\n",
    "plt.title('Random Forest Regression')\n",
    "plt.tight_layout()\n",
    "plt.savefig('Part 2 - Regression/Section 9 - Random Forest Regression/RF_Reg.jpg', dpi=199)"
   ]
  },
  {
   "cell_type": "markdown",
   "metadata": {},
   "source": [
    "## 2-7 R squared\n",
    "\n",
    "Parameter that helps to evaluate whether the model applied to display the data is correct (actually a good model rather than correct). \n",
    "\n",
    "R squared is defined as follows\n",
    "\n",
    "$\n",
    "R^2 = 1 - \\frac{\\sigma_{res}}{\\sigma_{tot}}$   \n",
    "$\\sigma_{res}= \\sum_i (y_i - y^{'}_i)^2 $   \n",
    "$ \\sigma_{tot}= \\sum_i (y_i - \\langle y \\rangle)^2 \n",
    "$\n",
    "\n",
    "where $\\langle y \\rangle$ indicates the average, whereas $y^{'}_i$ indicates the $i$-th predicted value with the model.\n",
    "\n",
    "$\\sigma_{res} \\rightarrow 0$ (which is the goal of regressions) $R^2 \\rightarrow 1$\n",
    "\n",
    "### Adjusted R squared\n",
    "\n",
    "As one adds more variables to the model, $R^2$ needs to be adjusted. $R^2$ cannot decrease when we add more variables, since $\\sigma_{res}$ is monotonically decreasing. Since $\\sigma_{tot}$ is a parameter of the data set $R^2$ can only increase or stay the same. It is possible though to adjust $R^2$\n",
    "$$\n",
    "R^2_{adj} = 1 - (1 - R^2) \\frac{n-1}{n-p-1}\n",
    "$$\n",
    "where $p$ is the number of regressors (indep. variables) and $n$ is the sample size. $R^2_{adj}$ penalises us if we add more irrelevant features. In fact if we add a feature then $R^2$ becomes bigger as seen above, whereas $p$ also increases by one. Hence if the new feature is irrelevant $R^2$increases by a little, whereas $p$ does so by 1. As a consequence $(1 - R^2)$ stays almost the same and $\\frac{n-1}{n-p-1}$ increases $\\rightarrow$ $R^2_{adj}$ decreases."
   ]
  },
  {
   "cell_type": "code",
   "execution_count": 126,
   "metadata": {},
   "outputs": [],
   "source": [
    "dataset = pd.read_csv('Part 2 - Regression/Section 10 - Evaluating Regression Models Performance/Data.csv') #name of the dataset\n",
    "sc = StandardScaler()\n",
    "X = dataset.iloc[:, :-1]\n",
    "y = dataset.iloc[:, -1]\n",
    "X_svr = sc.fit_transform(X) #non si applica alle dummy variable\n",
    "y_svr = sc.fit_transform(np.array(y).reshape(len(y),1))\n",
    "\n",
    "from sklearn.model_selection import train_test_split\n",
    "X_train, X_test, y_train, y_test = train_test_split(X, y, test_size = 0.2, random_state =0)\n",
    "X_train_svr, X_test_svr, y_train_svr, y_test_svr = train_test_split(X_svr, y_svr, test_size = 0.2, random_state =0)\n"
   ]
  },
  {
   "cell_type": "code",
   "execution_count": 133,
   "metadata": {},
   "outputs": [
    {
     "name": "stdout",
     "output_type": "stream",
     "text": [
      "[0.92779056 0.94251302 0.94622149 0.9175121  0.95996547]\n"
     ]
    }
   ],
   "source": [
    "\n",
    "R_sq = np.array([])\n",
    "#multiple linear regression\n",
    "from sklearn.linear_model import LinearRegression\n",
    "from sklearn.metrics import r2_score\n",
    "lin_reg = LinearRegression().fit(X_train, y_train) \n",
    "R_sq = np.append(R_sq, r2_score(lin_reg.predict(X_test), y_test))\n",
    "\n",
    "#polynomial\n",
    "from sklearn.preprocessing import PolynomialFeatures\n",
    "Poly = PolynomialFeatures(degree=4)\n",
    "PLR =Poly.fit_transform(X_train) #polynomial degree 4\n",
    "PLR = LinearRegression().fit(PLR,y_train)\n",
    "R_sq = np.append(R_sq, r2_score(PLR.predict(Poly.transform(X_test)), y_test))\n",
    "\n",
    "#SVR\n",
    "from sklearn.svm import SVR\n",
    "svr_reg = SVR(kernel='rbf', degree=3, gamma='scale').fit(X_train_svr, y_train_svr.ravel())\n",
    "R_sq = np.append(R_sq, r2_score(sc.inverse_transform(svr_reg.predict(X_test_svr)), sc.inverse_transform(y_test_svr)))\n",
    "\n",
    "\n",
    "#Decision Tree Regression\n",
    "from sklearn.tree import DecisionTreeRegressor\n",
    "DT_reg = DecisionTreeRegressor().fit(X_train,y_train)\n",
    "R_sq = np.append(R_sq, r2_score(DT_reg.predict(X_test), y_test))\n",
    "\n",
    "#Random Forest\n",
    "from sklearn.ensemble import RandomForestRegressor\n",
    "RF_reg = RandomForestRegressor(n_estimators=10, random_state=0).fit(X_train, y_train)\n",
    "R_sq = np.append(R_sq, r2_score(RF_reg.predict(X_test), y_test))\n",
    "\n",
    "print(R_sq)\n"
   ]
  },
  {
   "cell_type": "code",
   "execution_count": 135,
   "metadata": {},
   "outputs": [
    {
     "data": {
      "image/png": "[encoded data removed]",
      "text/plain": [
       "<Figure size 432x288 with 1 Axes>"
      ]
     },
     "metadata": {
      "needs_background": "light"
     },
     "output_type": "display_data"
    }
   ],
   "source": [
    "plt.scatter(['MLR', 'PR','SVR','DTR','RFR'],R_sq, c='b')\n",
    "plt.xlabel('Test Type')\n",
    "plt.ylabel('R^2 score')\n",
    "plt.title('R^2 score for Different Regression Methods')\n",
    "plt.tight_layout()\n",
    "plt.savefig('Part 2 - Regression/Section 9 - Random Forest Regression/RF_Reg.jpg', dpi=199)"
   ]
  },
  {
   "cell_type": "code",
   "execution_count": 1,
   "metadata": {},
   "outputs": [
    {
     "name": "stdout",
     "output_type": "stream",
     "text": [
      "\u001b[H\u001b[2J"
     ]
    }
   ],
   "source": [
    "%clear"
   ]
  },
  {
   "cell_type": "code",
   "execution_count": null,
   "metadata": {},
   "outputs": [],
   "source": []
  }
 ],
 "metadata": {
  "kernelspec": {
   "display_name": "Python 3",
   "language": "python",
   "name": "python3"
  },
  "language_info": {
   "codemirror_mode": {
    "name": "ipython",
    "version": 3
   },
   "file_extension": ".py",
   "mimetype": "text/x-python",
   "name": "python",
   "nbconvert_exporter": "python",
   "pygments_lexer": "ipython3",
   "version": "3.7.4"
  }
 },
 "nbformat": 4,
 "nbformat_minor": 2
}
