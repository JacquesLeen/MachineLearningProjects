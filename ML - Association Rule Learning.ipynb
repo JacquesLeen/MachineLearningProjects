{
 "metadata": {
  "language_info": {
   "codemirror_mode": {
    "name": "ipython",
    "version": 3
   },
   "file_extension": ".py",
   "mimetype": "text/x-python",
   "name": "python",
   "nbconvert_exporter": "python",
   "pygments_lexer": "ipython3",
   "version": "3.8.3-final"
  },
  "orig_nbformat": 2,
  "kernelspec": {
   "name": "python3",
   "display_name": "Python 3"
  }
 },
 "nbformat": 4,
 "nbformat_minor": 2,
 "cells": [
  {
   "source": [
    "# 5 - Association Rule Learning\n"
   ],
   "cell_type": "markdown",
   "metadata": {}
  },
  {
   "source": [
    "## 5.1 - A Priori Rule Learning\n",
    "\n",
    "There are situation in which two datas seem to be completely uncorrelated and yet they show some form of correlation. A priori algorithm serves to individuate a pattern in the data such that we can find evidence for sentences such as \"people who did this also did that\". \n",
    "\n",
    "Apriori algorithm has 3 parts\n",
    "\n",
    "### Support\n",
    "\n",
    "$$ \\text{Support}(i) = \\frac{\\text{number of elements corresponding to } i}{ \\text{total number of elements}} $$\n",
    "\n",
    "### Confidence \n",
    "\n",
    "$$ \\text{Confidence}(i \\rightarrow j) = \\frac{\\text{number of elements corresponding to } i \\text{ and } j}{ \\text{number of elements corresponding to } i} $$\n",
    "\n",
    "expresses the test of a rule (such as people that have seen movie a are also the people that have seen movide b).\n",
    "\n",
    "### Lift\n",
    "\n",
    "$$ \\text{Lift}(i \\rightarrow j) = \\frac{\\text{Confidence}}{\\text{Support}}$$\n",
    "\n",
    "If the lift is $>>1$ that shows a correlation between events $i$ and $j$ even though that might not be evident.\n",
    "\n",
    "Step by step Procedure:\n",
    "\n",
    "1- Set a minimum support and Confidence\n",
    "\n",
    "2- Take all the subsets in transaction having higher support than minimum support\n",
    "\n",
    "3- take all the rules of the subsets that have higher Confidence that minimum Confidence\n",
    "\n",
    "4- Sort rules by decreasing Lift."
   ],
   "cell_type": "markdown",
   "metadata": {}
  },
  {
   "cell_type": "code",
   "execution_count": 9,
   "metadata": {},
   "outputs": [
    {
     "output_type": "stream",
     "name": "stdout",
     "text": [
      "Collecting apyori\n",
      "  Downloading apyori-1.1.2.tar.gz (8.6 kB)\n",
      "Building wheels for collected packages: apyori\n",
      "  Building wheel for apyori (setup.py) ... \u001b[?25ldone\n",
      "\u001b[?25h  Created wheel for apyori: filename=apyori-1.1.2-py3-none-any.whl size=5974 sha256=965479265a135f335005a99312946c84adbe3774fae3d32405354ec17d771bad\n",
      "  Stored in directory: /Users/giacomolini/Library/Caches/pip/wheels/1b/02/6c/a45230be8603bd95c0a51cd2b289aefdd860c1a100eab73661\n",
      "Successfully built apyori\n",
      "Installing collected packages: apyori\n",
      "Successfully installed apyori-1.1.2\n"
     ]
    }
   ],
   "source": [
    "#importing libraries\n",
    "import numpy as np\n",
    "import matplotlib.pyplot as plt\n",
    "import pandas as pd\n",
    "import seaborn; seaborn.set()\n",
    "\n",
    "#!pip install apyori"
   ]
  },
  {
   "cell_type": "code",
   "execution_count": 33,
   "metadata": {
    "tags": []
   },
   "outputs": [],
   "source": [
    "dataset = pd.read_csv('Part 5 - Association Rule Learning/Section 28 - Apriori/Market_Basket_Optimisation.csv', header=None)\n",
    "\n",
    "# ====== recreate the data set with a suitable format for apriori function ===== #\n",
    "transactions = []\n",
    "for i in range(0,dataset.shape[0]):\n",
    "  transactions.append([str(dataset.values[i,j]) for j in range (0,20) ])\n",
    "\n"
   ]
  },
  {
   "cell_type": "code",
   "execution_count": 44,
   "metadata": {
    "tags": []
   },
   "outputs": [
    {
     "output_type": "stream",
     "name": "stdout",
     "text": [
      "RelationRecord(items=frozenset({'extra dark chocolate', 'chicken'}), support=0.0027996267164378083, ordered_statistics=[OrderedStatistic(items_base=frozenset({'extra dark chocolate'}), items_add=frozenset({'chicken'}), confidence=0.23333333333333334, lift=3.8894074074074076)])\n"
     ]
    }
   ],
   "source": [
    "from apyori import apriori\n",
    "\n",
    "results = list(apriori(transactions= transactions, min_support= (21)/(7501), min_confidence= 0.2, min_lift=3, min_lenght=2, max_length=2))\n",
    "\n",
    "print(results[0])\n",
    "## min_length e max_length servono per delimitare il numero di elementi nelle liste (in questo caso il problema in question richiede di legare 1 elemento a 1 altro -> min e max =2)"
   ]
  },
  {
   "cell_type": "code",
   "execution_count": 49,
   "metadata": {},
   "outputs": [
    {
     "output_type": "stream",
     "name": "stdout",
     "text": [
      "                    LHS          RHS   Support  Confidence      Lift\n7           light cream    olive oil  0.003200    0.205128  3.114710\n5         herb & pepper  ground beef  0.015998    0.323450  3.291994\n2  mushroom cream sauce     escalope  0.005733    0.300699  3.790833\n6          tomato sauce  ground beef  0.005333    0.377358  3.840659\n0  extra dark chocolate      chicken  0.002800    0.233333  3.889407\n8     whole wheat pasta    olive oil  0.007999    0.271493  4.122410\n9                 pasta       shrimp  0.005066    0.322034  4.506672\n3                 pasta     escalope  0.005866    0.372881  4.700812\n1           light cream      chicken  0.004533    0.290598  4.843951\n4         fromage blanc        honey  0.003333    0.245098  5.164271\n"
     ]
    }
   ],
   "source": [
    "def inspect(results):\n",
    "    lhs = [tuple(result[2][0][0])[0] for result in results]\n",
    "    rhs = [tuple(result[2][0][1])[0] for result in results]\n",
    "    supports = [result[1] for result in results]\n",
    "    confidences = [result[2][0][2] for result in results]\n",
    "    lifts = [result[2][0][3] for result in results]\n",
    "    return list(zip(lhs, rhs, supports, confidences, lifts))\n",
    "\n",
    "df_res = pd.DataFrame(inspect(results), columns=['LHS', 'RHS', 'Support', 'Confidence', 'Lift'])\n",
    "\n",
    "print(df_res.sort_values(by='Lift'))"
   ]
  },
  {
   "source": [
    "## 6.2 ECLAT\n",
    "\n",
    "Simplified version of the Apriori Model. It is a \"people who do also do\" kind of model as well. The simplification depends from the fact that we only have Support relative to two elements or more. It is like asking \"how often the two items M = (m,n) are associated?\". In this case we only consider and sort the elements according to their Support. "
   ],
   "cell_type": "markdown",
   "metadata": {}
  },
  {
   "cell_type": "code",
   "execution_count": 50,
   "metadata": {},
   "outputs": [],
   "source": [
    "\n",
    "dataset = pd.read_csv('Part 5 - Association Rule Learning/Section 29 - ECLAT/Market_Basket_Optimisation.csv', header=None)\n",
    "\n",
    "# ====== recreate the data set with a suitable format for apriori function ===== #\n",
    "transactions = []\n",
    "for i in range(0,dataset.shape[0]):\n",
    "  transactions.append([str(dataset.values[i,j]) for j in range (0,20) ])\n"
   ]
  },
  {
   "cell_type": "code",
   "execution_count": 52,
   "metadata": {},
   "outputs": [
    {
     "output_type": "stream",
     "name": "stdout",
     "text": [
      "                    LHS          RHS   Support\n0  extra dark chocolate      chicken  0.002800\n7           light cream    olive oil  0.003200\n4         fromage blanc        honey  0.003333\n1           light cream      chicken  0.004533\n9                 pasta       shrimp  0.005066\n6          tomato sauce  ground beef  0.005333\n2  mushroom cream sauce     escalope  0.005733\n3                 pasta     escalope  0.005866\n8     whole wheat pasta    olive oil  0.007999\n5         herb & pepper  ground beef  0.015998\n"
     ]
    }
   ],
   "source": [
    "from apyori import apriori\n",
    "results = list(apriori(transactions= transactions, min_support= (21)/(7501), min_confidence= 0.2, min_lift=3, min_lenght=2, max_length=2))\n",
    "\n",
    "def inspect_eclat(results):\n",
    "    lhs = [tuple(result[2][0][0])[0] for result in results]\n",
    "    rhs = [tuple(result[2][0][1])[0] for result in results]\n",
    "    supports = [result[1] for result in results]\n",
    "    return list(zip(lhs, rhs, supports))\n",
    "\n",
    "df_res = pd.DataFrame(inspect_eclat(results), columns=['LHS', 'RHS', 'Support'])\n",
    "\n",
    "print(df_res.sort_values(by='Support'))"
   ]
  },
  {
   "cell_type": "code",
   "execution_count": null,
   "metadata": {},
   "outputs": [],
   "source": []
  }
 ]
}