{
 "metadata": {
  "language_info": {
   "codemirror_mode": {
    "name": "ipython",
    "version": 3
   },
   "file_extension": ".py",
   "mimetype": "text/x-python",
   "name": "python",
   "nbconvert_exporter": "python",
   "pygments_lexer": "ipython3",
   "version": "3.8.3-final"
  },
  "orig_nbformat": 2,
  "kernelspec": {
   "name": "python3",
   "display_name": "Python 3"
  }
 },
 "nbformat": 4,
 "nbformat_minor": 2,
 "cells": [
  {
   "source": [
    "# 7 - NLP Natural Language Processing"
   ],
   "cell_type": "markdown",
   "metadata": {}
  },
  {
   "source": [
    "## Bag of Words Model"
   ],
   "cell_type": "markdown",
   "metadata": {}
  },
  {
   "cell_type": "code",
   "execution_count": 1,
   "metadata": {},
   "outputs": [],
   "source": [
    "import numpy as np\n",
    "import matplotlib.pyplot as plt \n",
    "import pandas as pd\n",
    "import seaborn; seaborn.set()"
   ]
  },
  {
   "cell_type": "code",
   "execution_count": 2,
   "metadata": {},
   "outputs": [],
   "source": [
    "dataset = pd.read_csv('Part 7 - Natural Language Processing/Section 36 - Natural Language Processing/Restaurant_Reviews.tsv',sep='\\t', quoting= 3) #quoting 3 serve a ignorare le \" \" presenti nel testo\n"
   ]
  },
  {
   "cell_type": "code",
   "execution_count": 4,
   "metadata": {},
   "outputs": [
    {
     "output_type": "error",
     "ename": "SyntaxError",
     "evalue": "invalid syntax (<ipython-input-4-3d2472de6e6b>, line 17)",
     "traceback": [
      "\u001b[0;36m  File \u001b[0;32m\"<ipython-input-4-3d2472de6e6b>\"\u001b[0;36m, line \u001b[0;32m17\u001b[0m\n\u001b[0;31m    review = [ ps.stem(word) word in review if not word in set(stopwords.words('english'))] #if the word it is not in the set of stopword we apply the stemmer\u001b[0m\n\u001b[0m                             ^\u001b[0m\n\u001b[0;31mSyntaxError\u001b[0m\u001b[0;31m:\u001b[0m invalid syntax\n"
     ]
    }
   ],
   "source": [
    "#cleaning the text\n",
    "\n",
    "import re #removes punctuations and such\n",
    "import nltk #download the ensemble of stop words after the text cleaning (irrelevant to make a prediction)\n",
    "nltk.download('stopwords')\n",
    "from nltk.corpus import stopwords #download and import stopwords\n",
    "from nltk.stem.porter import PorterStemmer #Stemming. we only take the root of the words sufficient for understanding the meaning.\n",
    "\n",
    "corpus =[] #list that will contain the cleaned reviews\n",
    "\n",
    "for i in range(0,len(dataset['Review'])):\n",
    "    review = re.sub('[^a-zA-Z]', ' ', dataset['Review'][i]) #^ means not -> replace everything but the letters a-z and A-Z\n",
    "    review= review.lower()                  #from oppercase to lower case\n",
    "    review= review.split()                  #split review into words\n",
    "    #stemming -> replace words by their root if necessary\n",
    "    ps = PorterStemmer() #stemmer\n",
    "    review = [ ps.stem(word) for word in review if not word in set(stopwords.words('english'))] #if the word it is not in the set of stopword we apply the stemmer \n",
    "    review= ' '.join(review)\n",
    "    corpus.append(review)\n",
    "\n"
   ]
  },
  {
   "cell_type": "code",
   "execution_count": null,
   "metadata": {},
   "outputs": [],
   "source": []
  }
 ]
}